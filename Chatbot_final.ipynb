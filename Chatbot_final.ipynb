{
 "cells": [
  {
   "cell_type": "code",
   "execution_count": 1,
   "id": "81d3e3e0",
   "metadata": {},
   "outputs": [
    {
     "name": "stdout",
     "output_type": "stream",
     "text": [
      "Requirement already satisfied: llama-index==0.12.9 in c:\\users\\admin\\appdata\\local\\programs\\python\\python312\\lib\\site-packages (0.12.9)\n",
      "Requirement already satisfied: llama-index-llms-ollama==0.5.0 in c:\\users\\admin\\appdata\\local\\programs\\python\\python312\\lib\\site-packages (0.5.0)\n",
      "Requirement already satisfied: llama-index-embeddings-huggingface==0.4.0 in c:\\users\\admin\\appdata\\local\\programs\\python\\python312\\lib\\site-packages (0.4.0)\n",
      "Requirement already satisfied: llama-index-llms-groq==0.3.1 in c:\\users\\admin\\appdata\\local\\programs\\python\\python312\\lib\\site-packages (0.3.1)\n",
      "Requirement already satisfied: tf-keras in c:\\users\\admin\\appdata\\local\\programs\\python\\python312\\lib\\site-packages (2.19.0)\n",
      "Requirement already satisfied: llama-index-agent-openai<0.5.0,>=0.4.0 in c:\\users\\admin\\appdata\\local\\programs\\python\\python312\\lib\\site-packages (from llama-index==0.12.9) (0.4.6)\n",
      "Requirement already satisfied: llama-index-cli<0.5.0,>=0.4.0 in c:\\users\\admin\\appdata\\local\\programs\\python\\python312\\lib\\site-packages (from llama-index==0.12.9) (0.4.1)\n",
      "Requirement already satisfied: llama-index-core<0.13.0,>=0.12.9 in c:\\users\\admin\\appdata\\local\\programs\\python\\python312\\lib\\site-packages (from llama-index==0.12.9) (0.12.27)\n",
      "Requirement already satisfied: llama-index-embeddings-openai<0.4.0,>=0.3.0 in c:\\users\\admin\\appdata\\local\\programs\\python\\python312\\lib\\site-packages (from llama-index==0.12.9) (0.3.1)\n",
      "Requirement already satisfied: llama-index-indices-managed-llama-cloud>=0.4.0 in c:\\users\\admin\\appdata\\local\\programs\\python\\python312\\lib\\site-packages (from llama-index==0.12.9) (0.6.9)\n",
      "Requirement already satisfied: llama-index-llms-openai<0.4.0,>=0.3.0 in c:\\users\\admin\\appdata\\local\\programs\\python\\python312\\lib\\site-packages (from llama-index==0.12.9) (0.3.29)\n",
      "Requirement already satisfied: llama-index-multi-modal-llms-openai<0.5.0,>=0.4.0 in c:\\users\\admin\\appdata\\local\\programs\\python\\python312\\lib\\site-packages (from llama-index==0.12.9) (0.4.3)\n",
      "Requirement already satisfied: llama-index-program-openai<0.4.0,>=0.3.0 in c:\\users\\admin\\appdata\\local\\programs\\python\\python312\\lib\\site-packages (from llama-index==0.12.9) (0.3.1)\n",
      "Requirement already satisfied: llama-index-question-gen-openai<0.4.0,>=0.3.0 in c:\\users\\admin\\appdata\\local\\programs\\python\\python312\\lib\\site-packages (from llama-index==0.12.9) (0.3.0)\n",
      "Requirement already satisfied: llama-index-readers-file<0.5.0,>=0.4.0 in c:\\users\\admin\\appdata\\local\\programs\\python\\python312\\lib\\site-packages (from llama-index==0.12.9) (0.4.7)\n",
      "Requirement already satisfied: llama-index-readers-llama-parse>=0.4.0 in c:\\users\\admin\\appdata\\local\\programs\\python\\python312\\lib\\site-packages (from llama-index==0.12.9) (0.4.0)\n",
      "Requirement already satisfied: nltk>3.8.1 in c:\\users\\admin\\appdata\\local\\programs\\python\\python312\\lib\\site-packages (from llama-index==0.12.9) (3.9.1)\n",
      "Requirement already satisfied: ollama>=0.4.3 in c:\\users\\admin\\appdata\\local\\programs\\python\\python312\\lib\\site-packages (from llama-index-llms-ollama==0.5.0) (0.4.7)\n",
      "Requirement already satisfied: huggingface-hub>=0.19.0 in c:\\users\\admin\\appdata\\local\\programs\\python\\python312\\lib\\site-packages (from huggingface-hub[inference]>=0.19.0->llama-index-embeddings-huggingface==0.4.0) (0.29.3)\n",
      "Requirement already satisfied: sentence-transformers>=2.6.1 in c:\\users\\admin\\appdata\\local\\programs\\python\\python312\\lib\\site-packages (from llama-index-embeddings-huggingface==0.4.0) (4.0.1)\n",
      "Requirement already satisfied: llama-index-llms-openai-like<0.4.0,>=0.3.1 in c:\\users\\admin\\appdata\\local\\programs\\python\\python312\\lib\\site-packages (from llama-index-llms-groq==0.3.1) (0.3.4)\n",
      "Requirement already satisfied: tensorflow<2.20,>=2.19 in c:\\users\\admin\\appdata\\roaming\\python\\python312\\site-packages (from tf-keras) (2.19.0)\n",
      "Requirement already satisfied: filelock in c:\\users\\admin\\appdata\\local\\programs\\python\\python312\\lib\\site-packages (from huggingface-hub>=0.19.0->huggingface-hub[inference]>=0.19.0->llama-index-embeddings-huggingface==0.4.0) (3.18.0)\n",
      "Requirement already satisfied: fsspec>=2023.5.0 in c:\\users\\admin\\appdata\\local\\programs\\python\\python312\\lib\\site-packages (from huggingface-hub>=0.19.0->huggingface-hub[inference]>=0.19.0->llama-index-embeddings-huggingface==0.4.0) (2025.3.0)\n",
      "Requirement already satisfied: packaging>=20.9 in c:\\users\\admin\\appdata\\local\\programs\\python\\python312\\lib\\site-packages (from huggingface-hub>=0.19.0->huggingface-hub[inference]>=0.19.0->llama-index-embeddings-huggingface==0.4.0) (24.2)\n",
      "Requirement already satisfied: pyyaml>=5.1 in c:\\users\\admin\\appdata\\local\\programs\\python\\python312\\lib\\site-packages (from huggingface-hub>=0.19.0->huggingface-hub[inference]>=0.19.0->llama-index-embeddings-huggingface==0.4.0) (6.0.2)\n",
      "Requirement already satisfied: requests in c:\\users\\admin\\appdata\\local\\programs\\python\\python312\\lib\\site-packages (from huggingface-hub>=0.19.0->huggingface-hub[inference]>=0.19.0->llama-index-embeddings-huggingface==0.4.0) (2.32.3)\n",
      "Requirement already satisfied: tqdm>=4.42.1 in c:\\users\\admin\\appdata\\local\\programs\\python\\python312\\lib\\site-packages (from huggingface-hub>=0.19.0->huggingface-hub[inference]>=0.19.0->llama-index-embeddings-huggingface==0.4.0) (4.67.1)\n",
      "Requirement already satisfied: typing-extensions>=3.7.4.3 in c:\\users\\admin\\appdata\\local\\programs\\python\\python312\\lib\\site-packages (from huggingface-hub>=0.19.0->huggingface-hub[inference]>=0.19.0->llama-index-embeddings-huggingface==0.4.0) (4.12.2)\n",
      "Requirement already satisfied: aiohttp in c:\\users\\admin\\appdata\\local\\programs\\python\\python312\\lib\\site-packages (from huggingface-hub[inference]>=0.19.0->llama-index-embeddings-huggingface==0.4.0) (3.11.14)\n",
      "Requirement already satisfied: openai>=1.14.0 in c:\\users\\admin\\appdata\\local\\programs\\python\\python312\\lib\\site-packages (from llama-index-agent-openai<0.5.0,>=0.4.0->llama-index==0.12.9) (1.69.0)\n",
      "Requirement already satisfied: SQLAlchemy>=1.4.49 in c:\\users\\admin\\appdata\\local\\programs\\python\\python312\\lib\\site-packages (from SQLAlchemy[asyncio]>=1.4.49->llama-index-core<0.13.0,>=0.12.9->llama-index==0.12.9) (2.0.40)\n",
      "Requirement already satisfied: banks<3.0.0,>=2.0.0 in c:\\users\\admin\\appdata\\local\\programs\\python\\python312\\lib\\site-packages (from llama-index-core<0.13.0,>=0.12.9->llama-index==0.12.9) (2.0.0)\n",
      "Requirement already satisfied: dataclasses-json in c:\\users\\admin\\appdata\\local\\programs\\python\\python312\\lib\\site-packages (from llama-index-core<0.13.0,>=0.12.9->llama-index==0.12.9) (0.6.7)\n",
      "Requirement already satisfied: deprecated>=1.2.9.3 in c:\\users\\admin\\appdata\\local\\programs\\python\\python312\\lib\\site-packages (from llama-index-core<0.13.0,>=0.12.9->llama-index==0.12.9) (1.2.18)\n",
      "Requirement already satisfied: dirtyjson<2.0.0,>=1.0.8 in c:\\users\\admin\\appdata\\local\\programs\\python\\python312\\lib\\site-packages (from llama-index-core<0.13.0,>=0.12.9->llama-index==0.12.9) (1.0.8)\n",
      "Requirement already satisfied: filetype<2.0.0,>=1.2.0 in c:\\users\\admin\\appdata\\local\\programs\\python\\python312\\lib\\site-packages (from llama-index-core<0.13.0,>=0.12.9->llama-index==0.12.9) (1.2.0)\n",
      "Requirement already satisfied: httpx in c:\\users\\admin\\appdata\\local\\programs\\python\\python312\\lib\\site-packages (from llama-index-core<0.13.0,>=0.12.9->llama-index==0.12.9) (0.28.1)\n",
      "Requirement already satisfied: nest-asyncio<2.0.0,>=1.5.8 in c:\\users\\admin\\appdata\\local\\programs\\python\\python312\\lib\\site-packages (from llama-index-core<0.13.0,>=0.12.9->llama-index==0.12.9) (1.6.0)\n",
      "Requirement already satisfied: networkx>=3.0 in c:\\users\\admin\\appdata\\local\\programs\\python\\python312\\lib\\site-packages (from llama-index-core<0.13.0,>=0.12.9->llama-index==0.12.9) (3.4.2)\n",
      "Requirement already satisfied: numpy in c:\\users\\admin\\appdata\\local\\programs\\python\\python312\\lib\\site-packages (from llama-index-core<0.13.0,>=0.12.9->llama-index==0.12.9) (1.26.4)\n",
      "Requirement already satisfied: pillow>=9.0.0 in c:\\users\\admin\\appdata\\local\\programs\\python\\python312\\lib\\site-packages (from llama-index-core<0.13.0,>=0.12.9->llama-index==0.12.9) (11.0.0)\n",
      "Requirement already satisfied: pydantic>=2.8.0 in c:\\users\\admin\\appdata\\local\\programs\\python\\python312\\lib\\site-packages (from llama-index-core<0.13.0,>=0.12.9->llama-index==0.12.9) (2.11.1)\n",
      "Requirement already satisfied: tenacity!=8.4.0,<10.0.0,>=8.2.0 in c:\\users\\admin\\appdata\\local\\programs\\python\\python312\\lib\\site-packages (from llama-index-core<0.13.0,>=0.12.9->llama-index==0.12.9) (9.0.0)\n",
      "Requirement already satisfied: tiktoken>=0.3.3 in c:\\users\\admin\\appdata\\local\\programs\\python\\python312\\lib\\site-packages (from llama-index-core<0.13.0,>=0.12.9->llama-index==0.12.9) (0.9.0)\n",
      "Requirement already satisfied: typing-inspect>=0.8.0 in c:\\users\\admin\\appdata\\local\\programs\\python\\python312\\lib\\site-packages (from llama-index-core<0.13.0,>=0.12.9->llama-index==0.12.9) (0.9.0)\n",
      "Requirement already satisfied: wrapt in c:\\users\\admin\\appdata\\local\\programs\\python\\python312\\lib\\site-packages (from llama-index-core<0.13.0,>=0.12.9->llama-index==0.12.9) (1.17.2)\n",
      "Requirement already satisfied: llama-cloud<0.2.0,>=0.1.13 in c:\\users\\admin\\appdata\\local\\programs\\python\\python312\\lib\\site-packages (from llama-index-indices-managed-llama-cloud>=0.4.0->llama-index==0.12.9) (0.1.17)\n",
      "Requirement already satisfied: transformers<5.0.0,>=4.37.0 in c:\\users\\admin\\appdata\\local\\programs\\python\\python312\\lib\\site-packages (from llama-index-llms-openai-like<0.4.0,>=0.3.1->llama-index-llms-groq==0.3.1) (4.50.3)\n",
      "Requirement already satisfied: beautifulsoup4<5.0.0,>=4.12.3 in c:\\users\\admin\\appdata\\local\\programs\\python\\python312\\lib\\site-packages (from llama-index-readers-file<0.5.0,>=0.4.0->llama-index==0.12.9) (4.12.3)\n",
      "Requirement already satisfied: pandas in c:\\users\\admin\\appdata\\local\\programs\\python\\python312\\lib\\site-packages (from llama-index-readers-file<0.5.0,>=0.4.0->llama-index==0.12.9) (2.2.3)\n",
      "Requirement already satisfied: pypdf<6.0.0,>=5.1.0 in c:\\users\\admin\\appdata\\local\\programs\\python\\python312\\lib\\site-packages (from llama-index-readers-file<0.5.0,>=0.4.0->llama-index==0.12.9) (5.4.0)\n",
      "Requirement already satisfied: striprtf<0.0.27,>=0.0.26 in c:\\users\\admin\\appdata\\local\\programs\\python\\python312\\lib\\site-packages (from llama-index-readers-file<0.5.0,>=0.4.0->llama-index==0.12.9) (0.0.26)\n",
      "Requirement already satisfied: llama-parse>=0.5.0 in c:\\users\\admin\\appdata\\local\\programs\\python\\python312\\lib\\site-packages (from llama-index-readers-llama-parse>=0.4.0->llama-index==0.12.9) (0.6.4.post1)\n",
      "Requirement already satisfied: click in c:\\users\\admin\\appdata\\local\\programs\\python\\python312\\lib\\site-packages (from nltk>3.8.1->llama-index==0.12.9) (8.1.8)\n",
      "Requirement already satisfied: joblib in c:\\users\\admin\\appdata\\local\\programs\\python\\python312\\lib\\site-packages (from nltk>3.8.1->llama-index==0.12.9) (1.4.2)\n",
      "Requirement already satisfied: regex>=2021.8.3 in c:\\users\\admin\\appdata\\local\\programs\\python\\python312\\lib\\site-packages (from nltk>3.8.1->llama-index==0.12.9) (2024.11.6)\n",
      "Requirement already satisfied: torch>=1.11.0 in c:\\users\\admin\\appdata\\local\\programs\\python\\python312\\lib\\site-packages (from sentence-transformers>=2.6.1->llama-index-embeddings-huggingface==0.4.0) (2.6.0)\n",
      "Requirement already satisfied: scikit-learn in c:\\users\\admin\\appdata\\local\\programs\\python\\python312\\lib\\site-packages (from sentence-transformers>=2.6.1->llama-index-embeddings-huggingface==0.4.0) (1.6.1)\n",
      "Requirement already satisfied: scipy in c:\\users\\admin\\appdata\\local\\programs\\python\\python312\\lib\\site-packages (from sentence-transformers>=2.6.1->llama-index-embeddings-huggingface==0.4.0) (1.13.1)\n",
      "Requirement already satisfied: absl-py>=1.0.0 in c:\\users\\admin\\appdata\\local\\programs\\python\\python312\\lib\\site-packages (from tensorflow<2.20,>=2.19->tf-keras) (2.1.0)\n",
      "Requirement already satisfied: astunparse>=1.6.0 in c:\\users\\admin\\appdata\\local\\programs\\python\\python312\\lib\\site-packages (from tensorflow<2.20,>=2.19->tf-keras) (1.6.3)\n",
      "Requirement already satisfied: flatbuffers>=24.3.25 in c:\\users\\admin\\appdata\\local\\programs\\python\\python312\\lib\\site-packages (from tensorflow<2.20,>=2.19->tf-keras) (25.2.10)\n",
      "Requirement already satisfied: gast!=0.5.0,!=0.5.1,!=0.5.2,>=0.2.1 in c:\\users\\admin\\appdata\\local\\programs\\python\\python312\\lib\\site-packages (from tensorflow<2.20,>=2.19->tf-keras) (0.6.0)\n",
      "Requirement already satisfied: google-pasta>=0.1.1 in c:\\users\\admin\\appdata\\local\\programs\\python\\python312\\lib\\site-packages (from tensorflow<2.20,>=2.19->tf-keras) (0.2.0)\n",
      "Requirement already satisfied: libclang>=13.0.0 in c:\\users\\admin\\appdata\\local\\programs\\python\\python312\\lib\\site-packages (from tensorflow<2.20,>=2.19->tf-keras) (18.1.1)\n",
      "Requirement already satisfied: opt-einsum>=2.3.2 in c:\\users\\admin\\appdata\\local\\programs\\python\\python312\\lib\\site-packages (from tensorflow<2.20,>=2.19->tf-keras) (3.4.0)\n",
      "Requirement already satisfied: protobuf!=4.21.0,!=4.21.1,!=4.21.2,!=4.21.3,!=4.21.4,!=4.21.5,<6.0.0dev,>=3.20.3 in c:\\users\\admin\\appdata\\local\\programs\\python\\python312\\lib\\site-packages (from tensorflow<2.20,>=2.19->tf-keras) (5.29.3)\n",
      "Requirement already satisfied: setuptools in c:\\users\\admin\\appdata\\local\\programs\\python\\python312\\lib\\site-packages (from tensorflow<2.20,>=2.19->tf-keras) (76.0.0)\n",
      "Requirement already satisfied: six>=1.12.0 in c:\\users\\admin\\appdata\\local\\programs\\python\\python312\\lib\\site-packages (from tensorflow<2.20,>=2.19->tf-keras) (1.17.0)\n",
      "Requirement already satisfied: termcolor>=1.1.0 in c:\\users\\admin\\appdata\\local\\programs\\python\\python312\\lib\\site-packages (from tensorflow<2.20,>=2.19->tf-keras) (2.5.0)\n",
      "Requirement already satisfied: grpcio<2.0,>=1.24.3 in c:\\users\\admin\\appdata\\local\\programs\\python\\python312\\lib\\site-packages (from tensorflow<2.20,>=2.19->tf-keras) (1.71.0)\n",
      "Requirement already satisfied: tensorboard~=2.19.0 in c:\\users\\admin\\appdata\\local\\programs\\python\\python312\\lib\\site-packages (from tensorflow<2.20,>=2.19->tf-keras) (2.19.0)\n",
      "Requirement already satisfied: keras>=3.5.0 in c:\\users\\admin\\appdata\\local\\programs\\python\\python312\\lib\\site-packages (from tensorflow<2.20,>=2.19->tf-keras) (3.9.0)\n",
      "Requirement already satisfied: h5py>=3.11.0 in c:\\users\\admin\\appdata\\local\\programs\\python\\python312\\lib\\site-packages (from tensorflow<2.20,>=2.19->tf-keras) (3.13.0)\n",
      "Requirement already satisfied: ml-dtypes<1.0.0,>=0.5.1 in c:\\users\\admin\\appdata\\local\\programs\\python\\python312\\lib\\site-packages (from tensorflow<2.20,>=2.19->tf-keras) (0.5.1)\n",
      "Requirement already satisfied: aiohappyeyeballs>=2.3.0 in c:\\users\\admin\\appdata\\local\\programs\\python\\python312\\lib\\site-packages (from aiohttp->huggingface-hub[inference]>=0.19.0->llama-index-embeddings-huggingface==0.4.0) (2.6.1)\n",
      "Requirement already satisfied: aiosignal>=1.1.2 in c:\\users\\admin\\appdata\\local\\programs\\python\\python312\\lib\\site-packages (from aiohttp->huggingface-hub[inference]>=0.19.0->llama-index-embeddings-huggingface==0.4.0) (1.3.2)\n",
      "Requirement already satisfied: attrs>=17.3.0 in c:\\users\\admin\\appdata\\local\\programs\\python\\python312\\lib\\site-packages (from aiohttp->huggingface-hub[inference]>=0.19.0->llama-index-embeddings-huggingface==0.4.0) (24.3.0)\n",
      "Requirement already satisfied: frozenlist>=1.1.1 in c:\\users\\admin\\appdata\\local\\programs\\python\\python312\\lib\\site-packages (from aiohttp->huggingface-hub[inference]>=0.19.0->llama-index-embeddings-huggingface==0.4.0) (1.5.0)\n",
      "Requirement already satisfied: multidict<7.0,>=4.5 in c:\\users\\admin\\appdata\\local\\programs\\python\\python312\\lib\\site-packages (from aiohttp->huggingface-hub[inference]>=0.19.0->llama-index-embeddings-huggingface==0.4.0) (6.2.0)\n",
      "Requirement already satisfied: propcache>=0.2.0 in c:\\users\\admin\\appdata\\local\\programs\\python\\python312\\lib\\site-packages (from aiohttp->huggingface-hub[inference]>=0.19.0->llama-index-embeddings-huggingface==0.4.0) (0.3.1)\n",
      "Requirement already satisfied: yarl<2.0,>=1.17.0 in c:\\users\\admin\\appdata\\local\\programs\\python\\python312\\lib\\site-packages (from aiohttp->huggingface-hub[inference]>=0.19.0->llama-index-embeddings-huggingface==0.4.0) (1.18.3)\n",
      "Requirement already satisfied: wheel<1.0,>=0.23.0 in c:\\users\\admin\\appdata\\local\\programs\\python\\python312\\lib\\site-packages (from astunparse>=1.6.0->tensorflow<2.20,>=2.19->tf-keras) (0.45.1)\n",
      "Requirement already satisfied: griffe in c:\\users\\admin\\appdata\\local\\programs\\python\\python312\\lib\\site-packages (from banks<3.0.0,>=2.0.0->llama-index-core<0.13.0,>=0.12.9->llama-index==0.12.9) (1.7.0)\n",
      "Requirement already satisfied: jinja2 in c:\\users\\admin\\appdata\\local\\programs\\python\\python312\\lib\\site-packages (from banks<3.0.0,>=2.0.0->llama-index-core<0.13.0,>=0.12.9->llama-index==0.12.9) (3.1.5)\n",
      "Requirement already satisfied: soupsieve>1.2 in c:\\users\\admin\\appdata\\local\\programs\\python\\python312\\lib\\site-packages (from beautifulsoup4<5.0.0,>=4.12.3->llama-index-readers-file<0.5.0,>=0.4.0->llama-index==0.12.9) (2.6)\n",
      "Requirement already satisfied: anyio in c:\\users\\admin\\appdata\\local\\programs\\python\\python312\\lib\\site-packages (from httpx->llama-index-core<0.13.0,>=0.12.9->llama-index==0.12.9) (4.7.0)\n",
      "Requirement already satisfied: certifi in c:\\users\\admin\\appdata\\local\\programs\\python\\python312\\lib\\site-packages (from httpx->llama-index-core<0.13.0,>=0.12.9->llama-index==0.12.9) (2025.1.31)\n",
      "Requirement already satisfied: httpcore==1.* in c:\\users\\admin\\appdata\\local\\programs\\python\\python312\\lib\\site-packages (from httpx->llama-index-core<0.13.0,>=0.12.9->llama-index==0.12.9) (1.0.7)\n",
      "Requirement already satisfied: idna in c:\\users\\admin\\appdata\\local\\programs\\python\\python312\\lib\\site-packages (from httpx->llama-index-core<0.13.0,>=0.12.9->llama-index==0.12.9) (3.10)\n",
      "Requirement already satisfied: h11<0.15,>=0.13 in c:\\users\\admin\\appdata\\local\\programs\\python\\python312\\lib\\site-packages (from httpcore==1.*->httpx->llama-index-core<0.13.0,>=0.12.9->llama-index==0.12.9) (0.14.0)\n",
      "Requirement already satisfied: rich in c:\\users\\admin\\appdata\\local\\programs\\python\\python312\\lib\\site-packages (from keras>=3.5.0->tensorflow<2.20,>=2.19->tf-keras) (13.9.4)\n",
      "Requirement already satisfied: namex in c:\\users\\admin\\appdata\\local\\programs\\python\\python312\\lib\\site-packages (from keras>=3.5.0->tensorflow<2.20,>=2.19->tf-keras) (0.0.8)\n",
      "Requirement already satisfied: optree in c:\\users\\admin\\appdata\\local\\programs\\python\\python312\\lib\\site-packages (from keras>=3.5.0->tensorflow<2.20,>=2.19->tf-keras) (0.14.1)\n",
      "Requirement already satisfied: llama-cloud-services>=0.6.4 in c:\\users\\admin\\appdata\\local\\programs\\python\\python312\\lib\\site-packages (from llama-parse>=0.5.0->llama-index-readers-llama-parse>=0.4.0->llama-index==0.12.9) (0.6.9)\n",
      "Requirement already satisfied: distro<2,>=1.7.0 in c:\\users\\admin\\appdata\\local\\programs\\python\\python312\\lib\\site-packages (from openai>=1.14.0->llama-index-agent-openai<0.5.0,>=0.4.0->llama-index==0.12.9) (1.9.0)\n",
      "Requirement already satisfied: jiter<1,>=0.4.0 in c:\\users\\admin\\appdata\\local\\programs\\python\\python312\\lib\\site-packages (from openai>=1.14.0->llama-index-agent-openai<0.5.0,>=0.4.0->llama-index==0.12.9) (0.9.0)\n",
      "Requirement already satisfied: sniffio in c:\\users\\admin\\appdata\\local\\programs\\python\\python312\\lib\\site-packages (from openai>=1.14.0->llama-index-agent-openai<0.5.0,>=0.4.0->llama-index==0.12.9) (1.3.1)\n",
      "Requirement already satisfied: annotated-types>=0.6.0 in c:\\users\\admin\\appdata\\local\\programs\\python\\python312\\lib\\site-packages (from pydantic>=2.8.0->llama-index-core<0.13.0,>=0.12.9->llama-index==0.12.9) (0.7.0)\n",
      "Requirement already satisfied: pydantic-core==2.33.0 in c:\\users\\admin\\appdata\\local\\programs\\python\\python312\\lib\\site-packages (from pydantic>=2.8.0->llama-index-core<0.13.0,>=0.12.9->llama-index==0.12.9) (2.33.0)\n",
      "Requirement already satisfied: typing-inspection>=0.4.0 in c:\\users\\admin\\appdata\\local\\programs\\python\\python312\\lib\\site-packages (from pydantic>=2.8.0->llama-index-core<0.13.0,>=0.12.9->llama-index==0.12.9) (0.4.0)\n",
      "Requirement already satisfied: charset-normalizer<4,>=2 in c:\\users\\admin\\appdata\\local\\programs\\python\\python312\\lib\\site-packages (from requests->huggingface-hub>=0.19.0->huggingface-hub[inference]>=0.19.0->llama-index-embeddings-huggingface==0.4.0) (3.4.1)\n",
      "Requirement already satisfied: urllib3<3,>=1.21.1 in c:\\users\\admin\\appdata\\local\\programs\\python\\python312\\lib\\site-packages (from requests->huggingface-hub>=0.19.0->huggingface-hub[inference]>=0.19.0->llama-index-embeddings-huggingface==0.4.0) (2.3.0)\n",
      "Requirement already satisfied: greenlet>=1 in c:\\users\\admin\\appdata\\local\\programs\\python\\python312\\lib\\site-packages (from SQLAlchemy>=1.4.49->SQLAlchemy[asyncio]>=1.4.49->llama-index-core<0.13.0,>=0.12.9->llama-index==0.12.9) (3.1.1)\n",
      "Requirement already satisfied: markdown>=2.6.8 in c:\\users\\admin\\appdata\\local\\programs\\python\\python312\\lib\\site-packages (from tensorboard~=2.19.0->tensorflow<2.20,>=2.19->tf-keras) (3.7)\n",
      "Requirement already satisfied: tensorboard-data-server<0.8.0,>=0.7.0 in c:\\users\\admin\\appdata\\local\\programs\\python\\python312\\lib\\site-packages (from tensorboard~=2.19.0->tensorflow<2.20,>=2.19->tf-keras) (0.7.2)\n",
      "Requirement already satisfied: werkzeug>=1.0.1 in c:\\users\\admin\\appdata\\local\\programs\\python\\python312\\lib\\site-packages (from tensorboard~=2.19.0->tensorflow<2.20,>=2.19->tf-keras) (3.1.3)\n",
      "Requirement already satisfied: sympy==1.13.1 in c:\\users\\admin\\appdata\\local\\programs\\python\\python312\\lib\\site-packages (from torch>=1.11.0->sentence-transformers>=2.6.1->llama-index-embeddings-huggingface==0.4.0) (1.13.1)\n",
      "Requirement already satisfied: mpmath<1.4,>=1.1.0 in c:\\users\\admin\\appdata\\local\\programs\\python\\python312\\lib\\site-packages (from sympy==1.13.1->torch>=1.11.0->sentence-transformers>=2.6.1->llama-index-embeddings-huggingface==0.4.0) (1.3.0)\n",
      "Requirement already satisfied: colorama in c:\\users\\admin\\appdata\\local\\programs\\python\\python312\\lib\\site-packages (from tqdm>=4.42.1->huggingface-hub>=0.19.0->huggingface-hub[inference]>=0.19.0->llama-index-embeddings-huggingface==0.4.0) (0.4.6)\n",
      "Requirement already satisfied: tokenizers<0.22,>=0.21 in c:\\users\\admin\\appdata\\local\\programs\\python\\python312\\lib\\site-packages (from transformers<5.0.0,>=4.37.0->llama-index-llms-openai-like<0.4.0,>=0.3.1->llama-index-llms-groq==0.3.1) (0.21.1)\n",
      "Requirement already satisfied: safetensors>=0.4.3 in c:\\users\\admin\\appdata\\local\\programs\\python\\python312\\lib\\site-packages (from transformers<5.0.0,>=4.37.0->llama-index-llms-openai-like<0.4.0,>=0.3.1->llama-index-llms-groq==0.3.1) (0.5.3)\n",
      "Requirement already satisfied: mypy-extensions>=0.3.0 in c:\\users\\admin\\appdata\\local\\programs\\python\\python312\\lib\\site-packages (from typing-inspect>=0.8.0->llama-index-core<0.13.0,>=0.12.9->llama-index==0.12.9) (1.0.0)\n",
      "Requirement already satisfied: marshmallow<4.0.0,>=3.18.0 in c:\\users\\admin\\appdata\\local\\programs\\python\\python312\\lib\\site-packages (from dataclasses-json->llama-index-core<0.13.0,>=0.12.9->llama-index==0.12.9) (3.26.1)\n",
      "Requirement already satisfied: python-dateutil>=2.8.2 in c:\\users\\admin\\appdata\\local\\programs\\python\\python312\\lib\\site-packages (from pandas->llama-index-readers-file<0.5.0,>=0.4.0->llama-index==0.12.9) (2.9.0.post0)\n",
      "Requirement already satisfied: pytz>=2020.1 in c:\\users\\admin\\appdata\\local\\programs\\python\\python312\\lib\\site-packages (from pandas->llama-index-readers-file<0.5.0,>=0.4.0->llama-index==0.12.9) (2025.2)\n",
      "Requirement already satisfied: tzdata>=2022.7 in c:\\users\\admin\\appdata\\local\\programs\\python\\python312\\lib\\site-packages (from pandas->llama-index-readers-file<0.5.0,>=0.4.0->llama-index==0.12.9) (2025.2)\n",
      "Requirement already satisfied: threadpoolctl>=3.1.0 in c:\\users\\admin\\appdata\\local\\programs\\python\\python312\\lib\\site-packages (from scikit-learn->sentence-transformers>=2.6.1->llama-index-embeddings-huggingface==0.4.0) (3.6.0)\n",
      "Requirement already satisfied: platformdirs<5.0.0,>=4.3.7 in c:\\users\\admin\\appdata\\local\\programs\\python\\python312\\lib\\site-packages (from llama-cloud-services>=0.6.4->llama-parse>=0.5.0->llama-index-readers-llama-parse>=0.4.0->llama-index==0.12.9) (4.3.7)\n",
      "Requirement already satisfied: python-dotenv<2.0.0,>=1.0.1 in c:\\users\\admin\\appdata\\local\\programs\\python\\python312\\lib\\site-packages (from llama-cloud-services>=0.6.4->llama-parse>=0.5.0->llama-index-readers-llama-parse>=0.4.0->llama-index==0.12.9) (1.1.0)\n",
      "Requirement already satisfied: MarkupSafe>=2.1.1 in c:\\users\\admin\\appdata\\local\\programs\\python\\python312\\lib\\site-packages (from werkzeug>=1.0.1->tensorboard~=2.19.0->tensorflow<2.20,>=2.19->tf-keras) (3.0.2)\n",
      "Requirement already satisfied: markdown-it-py>=2.2.0 in c:\\users\\admin\\appdata\\local\\programs\\python\\python312\\lib\\site-packages (from rich->keras>=3.5.0->tensorflow<2.20,>=2.19->tf-keras) (3.0.0)\n",
      "Requirement already satisfied: pygments<3.0.0,>=2.13.0 in c:\\users\\admin\\appdata\\local\\programs\\python\\python312\\lib\\site-packages (from rich->keras>=3.5.0->tensorflow<2.20,>=2.19->tf-keras) (2.19.1)\n",
      "Requirement already satisfied: mdurl~=0.1 in c:\\users\\admin\\appdata\\local\\programs\\python\\python312\\lib\\site-packages (from markdown-it-py>=2.2.0->rich->keras>=3.5.0->tensorflow<2.20,>=2.19->tf-keras) (0.1.2)\n"
     ]
    }
   ],
   "source": [
    "! pip install llama-index==0.12.9 llama-index-llms-ollama==0.5.0 llama-index-embeddings-huggingface==0.4.0 llama-index-llms-groq==0.3.1 tf-keras"
   ]
  },
  {
   "cell_type": "code",
   "execution_count": 2,
   "id": "b8d6b561",
   "metadata": {},
   "outputs": [],
   "source": [
    "import os"
   ]
  },
  {
   "cell_type": "code",
   "execution_count": 3,
   "id": "e06d5051",
   "metadata": {},
   "outputs": [],
   "source": [
    "import nest_asyncio\n",
    "\n",
    "nest_asyncio.apply()"
   ]
  },
  {
   "cell_type": "code",
   "execution_count": 4,
   "id": "8a4fb880",
   "metadata": {},
   "outputs": [],
   "source": [
    "from llama_index.core import SimpleDirectoryReader"
   ]
  },
  {
   "cell_type": "code",
   "execution_count": 5,
   "id": "c60ddebd",
   "metadata": {},
   "outputs": [
    {
     "name": "stderr",
     "output_type": "stream",
     "text": [
      "incorrect startxref pointer(1)\n",
      "parsing for Object Streams\n"
     ]
    }
   ],
   "source": [
    "# load teh document\n",
    "documents = SimpleDirectoryReader(input_files=[\"The Emperor of All Maladies_ A Biography of Cancer final.pdf\"]).load_data()"
   ]
  },
  {
   "cell_type": "code",
   "execution_count": 6,
   "id": "d02d435c",
   "metadata": {},
   "outputs": [
    {
     "name": "stdout",
     "output_type": "stream",
     "text": [
      "<class 'list'>\n"
     ]
    }
   ],
   "source": [
    "print(type(documents))"
   ]
  },
  {
   "cell_type": "code",
   "execution_count": 7,
   "id": "7418c52a",
   "metadata": {},
   "outputs": [
    {
     "data": {
      "text/plain": [
       "449"
      ]
     },
     "execution_count": 7,
     "metadata": {},
     "output_type": "execute_result"
    }
   ],
   "source": [
    "len(documents)"
   ]
  },
  {
   "cell_type": "code",
   "execution_count": 8,
   "id": "ad042f9b",
   "metadata": {},
   "outputs": [
    {
     "data": {
      "text/plain": [
       "Document(id_='ac8f3cef-c7cf-416c-a407-efac486afa86', embedding=None, metadata={'page_label': '1', 'file_name': 'The Emperor of All Maladies_ A Biography of Cancer final.pdf', 'file_path': 'The Emperor of All Maladies_ A Biography of Cancer final.pdf', 'file_type': 'application/pdf', 'file_size': 6201653, 'creation_date': '2025-03-31', 'last_modified_date': '2025-03-31'}, excluded_embed_metadata_keys=['file_name', 'file_type', 'file_size', 'creation_date', 'last_modified_date', 'last_accessed_date'], excluded_llm_metadata_keys=['file_name', 'file_type', 'file_size', 'creation_date', 'last_modified_date', 'last_accessed_date'], relationships={}, metadata_template='{key}: {value}', metadata_separator='\\n', text_resource=MediaResource(embeddings=None, data=None, text='', path=None, url=None, mimetype=None), image_resource=None, audio_resource=None, video_resource=None, text_template='{metadata_str}\\n\\n{content}')"
      ]
     },
     "execution_count": 8,
     "metadata": {},
     "output_type": "execute_result"
    }
   ],
   "source": [
    "documents[0]"
   ]
  },
  {
   "cell_type": "code",
   "execution_count": 9,
   "id": "14697214",
   "metadata": {},
   "outputs": [],
   "source": [
    "from llama_index.core.node_parser import SentenceSplitter"
   ]
  },
  {
   "cell_type": "code",
   "execution_count": 10,
   "id": "2d61b376",
   "metadata": {},
   "outputs": [],
   "source": [
    "splitter = SentenceSplitter(chunk_size=2000,\n",
    "                           chunk_overlap=20)"
   ]
  },
  {
   "cell_type": "code",
   "execution_count": 11,
   "id": "6249435a",
   "metadata": {},
   "outputs": [],
   "source": [
    "nodes = splitter.get_nodes_from_documents(documents)"
   ]
  },
  {
   "cell_type": "code",
   "execution_count": 12,
   "id": "a3a3cb96",
   "metadata": {},
   "outputs": [
    {
     "name": "stderr",
     "output_type": "stream",
     "text": [
      "c:\\Users\\Admin\\AppData\\Local\\Programs\\Python\\Python312\\Lib\\site-packages\\tqdm\\auto.py:21: TqdmWarning: IProgress not found. Please update jupyter and ipywidgets. See https://ipywidgets.readthedocs.io/en/stable/user_install.html\n",
      "  from .autonotebook import tqdm as notebook_tqdm\n"
     ]
    },
    {
     "name": "stdout",
     "output_type": "stream",
     "text": [
      "WARNING:tensorflow:From c:\\Users\\Admin\\AppData\\Local\\Programs\\Python\\Python312\\Lib\\site-packages\\tf_keras\\src\\losses.py:2976: The name tf.losses.sparse_softmax_cross_entropy is deprecated. Please use tf.compat.v1.losses.sparse_softmax_cross_entropy instead.\n",
      "\n"
     ]
    }
   ],
   "source": [
    "from sentence_transformers import SentenceTransformer\n",
    "# Load Sentence Transformer for embeddings\n",
    "embedding_model = SentenceTransformer(\"all-MiniLM-L6-v2\")\n",
    "\n",
    "# Convert nodes into embeddings\n",
    "node_texts = [node.text for node in nodes]  # Store texts\n",
    "node_embeddings = [embedding_model.encode(text, convert_to_tensor=True) for text in node_texts]  # Store embeddings"
   ]
  },
  {
   "cell_type": "code",
   "execution_count": 13,
   "id": "3b9311f9",
   "metadata": {},
   "outputs": [
    {
     "name": "stdout",
     "output_type": "stream",
     "text": [
      "<class 'list'>\n"
     ]
    }
   ],
   "source": [
    "print(type(nodes))"
   ]
  },
  {
   "cell_type": "code",
   "execution_count": 14,
   "id": "8c53ab98",
   "metadata": {},
   "outputs": [],
   "source": [
    "from llama_index.core import Settings\n",
    "#from llama_index.llms.ollama import Ollama\n",
    "from llama_index.llms.groq import Groq\n",
    "from llama_index.embeddings.huggingface import HuggingFaceEmbedding"
   ]
  },
  {
   "cell_type": "code",
   "execution_count": 15,
   "id": "30350775",
   "metadata": {},
   "outputs": [],
   "source": [
    "#Settings.llm = Ollama(model=\"gemma:2b\")"
   ]
  },
  {
   "cell_type": "code",
   "execution_count": 16,
   "id": "9dd526eb",
   "metadata": {},
   "outputs": [],
   "source": [
    "os.environ[\"GROQ_API_KEY\"] = \"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\""
   ]
  },
  {
   "cell_type": "code",
   "execution_count": 17,
   "id": "a54361a1",
   "metadata": {},
   "outputs": [],
   "source": [
    "Settings.llm = Groq(model=\"llama-3.1-8b-instant\")"
   ]
  },
  {
   "cell_type": "code",
   "execution_count": 18,
   "id": "5b86d81c",
   "metadata": {},
   "outputs": [],
   "source": [
    "Settings.embed_model = HuggingFaceEmbedding()"
   ]
  },
  {
   "cell_type": "code",
   "execution_count": 19,
   "id": "d8a40a98",
   "metadata": {},
   "outputs": [],
   "source": [
    "from llama_index.core import SummaryIndex, VectorStoreIndex"
   ]
  },
  {
   "cell_type": "code",
   "execution_count": 20,
   "id": "d30bfc0c",
   "metadata": {},
   "outputs": [],
   "source": [
    "summary_index = SummaryIndex(nodes)\n",
    "vector_index = VectorStoreIndex(nodes)"
   ]
  },
  {
   "cell_type": "code",
   "execution_count": 21,
   "id": "cf77de2c",
   "metadata": {},
   "outputs": [],
   "source": [
    "summary_query_engine = summary_index.as_query_engine(\n",
    "    response_mode=\"tree_summarize\",\n",
    "    use_async=True\n",
    ")\n",
    "\n",
    "vector_query_engine = vector_index.as_query_engine()"
   ]
  },
  {
   "cell_type": "code",
   "execution_count": 22,
   "id": "987d783f",
   "metadata": {},
   "outputs": [],
   "source": [
    "from llama_index.core.tools import QueryEngineTool"
   ]
  },
  {
   "cell_type": "code",
   "execution_count": 23,
   "id": "637986cc",
   "metadata": {},
   "outputs": [],
   "source": [
    "summary_tool = QueryEngineTool.from_defaults(\n",
    "    query_engine = summary_query_engine,\n",
    "    description = (\n",
    "        \"Useful for summarization related to the  given context\"\n",
    "    )\n",
    ")\n",
    "\n",
    "vector_tool = QueryEngineTool.from_defaults(\n",
    "    query_engine = vector_query_engine,\n",
    "    description = (\n",
    "        \"Useful for retrieving specific context from the given context based on the given question\"\n",
    "    )\n",
    ")"
   ]
  },
  {
   "cell_type": "code",
   "execution_count": 24,
   "id": "74c2ba03",
   "metadata": {},
   "outputs": [],
   "source": [
    "from llama_index.core.query_engine.router_query_engine import RouterQueryEngine\n",
    "from llama_index.core.selectors import LLMSingleSelector"
   ]
  },
  {
   "cell_type": "code",
   "execution_count": 25,
   "id": "5956de6f",
   "metadata": {},
   "outputs": [],
   "source": [
    "query_engine = RouterQueryEngine(\n",
    "    selector = LLMSingleSelector.from_defaults(),\n",
    "    query_engine_tools=[\n",
    "        summary_tool,\n",
    "        vector_tool\n",
    "    ],\n",
    "    verbose=True\n",
    ")"
   ]
  },
  {
   "cell_type": "code",
   "execution_count": 26,
   "id": "84cb65f0",
   "metadata": {},
   "outputs": [
    {
     "name": "stdout",
     "output_type": "stream",
     "text": [
      "\u001b[1;3;38;5;200mSelecting query engine 1: The question 'What is hypertrophy?' is asking for a specific definition or explanation of a term, which is more relevant to retrieving specific context from the given context based on the given question..\n",
      "\u001b[0mHypertrophy refers to the growth and increase in size of cells, tissues, or organs, often resulting from an increase in the size of the cells themselves, rather than an increase in the number of cells. This can occur in various parts of the body, such as muscle tissue, where it is a common adaptation to exercise and resistance training.\n"
     ]
    }
   ],
   "source": [
    "response = query_engine.query(\"What is hypertrophy?\")\n",
    "print(response)"
   ]
  },
  {
   "cell_type": "code",
   "execution_count": 27,
   "id": "7852c09d",
   "metadata": {},
   "outputs": [
    {
     "name": "stdout",
     "output_type": "stream",
     "text": [
      "\u001b[1;3;38;5;200mSelecting query engine 1: The question 'What is metastasis?' is asking for a specific definition or explanation of metastasis, which requires retrieving specific context from the given context based on the question..\n",
      "\u001b[0mMetastasis refers to the process by which cancer cells spread from the original site of a tumor to other parts of the body, often forming new tumors. This can occur through various mechanisms, including the bloodstream or lymphatic system.\n"
     ]
    }
   ],
   "source": [
    "response = query_engine.query(\"What is metastasis?\")\n",
    "print(response)"
   ]
  },
  {
   "cell_type": "code",
   "execution_count": 28,
   "id": "abc817a8",
   "metadata": {},
   "outputs": [
    {
     "name": "stdout",
     "output_type": "stream",
     "text": [
      "\u001b[1;3;38;5;200mSelecting query engine 1: The question 'What is cancer?' is asking for a specific definition or explanation of cancer, which is a retrieval task..\n",
      "\u001b[0mCancer is a complex and multifaceted disease that affects millions of people worldwide. It is characterized by the uncontrolled growth and spread of abnormal cells in the body, which can invade and damage surrounding tissues and organs. This process can lead to a wide range of symptoms, from mild to severe, and can be life-threatening if left untreated.\n"
     ]
    }
   ],
   "source": [
    "response = query_engine.query(\"What is cancer?\")\n",
    "print(response)"
   ]
  },
  {
   "cell_type": "code",
   "execution_count": 29,
   "id": "049821f3",
   "metadata": {},
   "outputs": [
    {
     "name": "stdout",
     "output_type": "stream",
     "text": [
      "\u001b[1;3;38;5;200mSelecting query engine 1: The question 'What is ATP?' is asking for a specific piece of information, which is a definition. This requires retrieving specific context from the given context based on the question..\n",
      "\u001b[0mATP, or Adenosine Triphosphate, is a molecule that serves as the primary energy currency of the cell. It is a high-energy compound that stores energy in the form of phosphate bonds, which can be broken down to release energy for various cellular processes.\n"
     ]
    }
   ],
   "source": [
    "response = query_engine.query(\"What is ATP?\")\n",
    "print(response)"
   ]
  },
  {
   "cell_type": "code",
   "execution_count": 30,
   "id": "ca519b8b",
   "metadata": {},
   "outputs": [
    {
     "name": "stdout",
     "output_type": "stream",
     "text": [
      "\u001b[1;3;38;5;200mSelecting query engine 1: The question 'What is liver cancer?' is asking for specific information about liver cancer, which requires retrieving a specific context from the given context based on the question..\n",
      "\u001b[0mLiver cancer is a type of cancer that originates in the liver, which is a vital organ responsible for various bodily functions such as detoxification, metabolism, and production of essential proteins. It can be caused by a combination of genetic and environmental factors, including viral infections, exposure to toxins, and certain lifestyle choices.\n"
     ]
    }
   ],
   "source": [
    "response = query_engine.query(\"What is liver cancer?\")\n",
    "print(response)"
   ]
  },
  {
   "cell_type": "code",
   "execution_count": 31,
   "id": "692ffdb0",
   "metadata": {},
   "outputs": [],
   "source": [
    "import torch\n",
    "import pickle\n",
    "\n",
    "with open(\"node_embeddings.pkl\", \"wb\") as f:\n",
    "    pickle.dump(node_embeddings, f)\n",
    "\n",
    "with open(\"node_texts.pkl\", \"wb\") as f:\n",
    "    pickle.dump(node_texts, f)"
   ]
  },
  {
   "cell_type": "code",
   "execution_count": 32,
   "id": "dd6c939b",
   "metadata": {},
   "outputs": [
    {
     "name": "stdout",
     "output_type": "stream",
     "text": [
      "Exiting interactive mode.\n",
      "✅ Query history updated and saved to 'query_history.json'\n"
     ]
    }
   ],
   "source": [
    "from IPython.display import clear_output\n",
    "import json\n",
    "from datetime import datetime\n",
    "\n",
    "def interactive_query():\n",
    "    # JSON file to store history\n",
    "    json_file = \"query_history.json\"\n",
    "\n",
    "    # Load existing history if file exists\n",
    "    try:\n",
    "        with open(json_file, \"r\") as f:\n",
    "            history = json.load(f)\n",
    "    except (FileNotFoundError, json.JSONDecodeError):\n",
    "        history = []\n",
    "\n",
    "    while True:\n",
    "        query = input(\"Enter your question about cancer (or type 'exit' to quit, 'history' to see past queries): \")\n",
    "\n",
    "        if query.lower() == 'exit':\n",
    "            print(\"Exiting interactive mode.\")\n",
    "            break\n",
    "\n",
    "        elif query.lower() == 'history':\n",
    "            if not history:\n",
    "                print(\"No query history yet.\")\n",
    "            else:\n",
    "                print(\"\\n--- Query History ---\")\n",
    "                for entry in history:\n",
    "                    print(f\"[{entry['timestamp']}] {entry['query']} → {entry['response']}\\n\")\n",
    "            continue\n",
    "\n",
    "        print(\"Searching for answer...\")\n",
    "        response = query_engine.query(query)  # Assuming query_engine is defined elsewhere\n",
    "\n",
    "        # Save new query-response pair with timestamp\n",
    "        new_entry = {\n",
    "            \"timestamp\": datetime.now().strftime(\"%Y-%m-%d %H:%M:%S\"),\n",
    "            \"query\": query,\n",
    "            \"response\": str(response)\n",
    "        }\n",
    "\n",
    "        # Append new data to history list\n",
    "        history.append(new_entry)\n",
    "\n",
    "        clear_output(wait=True)\n",
    "        print(f\"Question: {query}\")\n",
    "        print(f\"Answer: {response}\")\n",
    "        print(\"\\n---\\n\")\n",
    "\n",
    "    # Save updated history to JSON (appends new queries)\n",
    "    with open(json_file, \"w\") as f:\n",
    "        json.dump(history, f, indent=4)\n",
    "\n",
    "    print(f\"✅ Query history updated and saved to '{json_file}'\")\n",
    "\n",
    "# Run the interactive query function\n",
    "interactive_query()"
   ]
  },
  {
   "cell_type": "code",
   "execution_count": 33,
   "id": "7fee5d41",
   "metadata": {},
   "outputs": [
    {
     "name": "stdout",
     "output_type": "stream",
     "text": [
      "Collecting rouge-score\n",
      "  Downloading rouge_score-0.1.2.tar.gz (17 kB)\n",
      "  Preparing metadata (setup.py): started\n",
      "  Preparing metadata (setup.py): finished with status 'done'\n",
      "Requirement already satisfied: sentence-transformers in c:\\users\\admin\\appdata\\local\\programs\\python\\python312\\lib\\site-packages (4.0.1)\n",
      "Requirement already satisfied: absl-py in c:\\users\\admin\\appdata\\local\\programs\\python\\python312\\lib\\site-packages (from rouge-score) (2.1.0)\n",
      "Requirement already satisfied: nltk in c:\\users\\admin\\appdata\\local\\programs\\python\\python312\\lib\\site-packages (from rouge-score) (3.9.1)\n",
      "Requirement already satisfied: numpy in c:\\users\\admin\\appdata\\local\\programs\\python\\python312\\lib\\site-packages (from rouge-score) (1.26.4)\n",
      "Requirement already satisfied: six>=1.14.0 in c:\\users\\admin\\appdata\\local\\programs\\python\\python312\\lib\\site-packages (from rouge-score) (1.17.0)\n",
      "Requirement already satisfied: transformers<5.0.0,>=4.41.0 in c:\\users\\admin\\appdata\\local\\programs\\python\\python312\\lib\\site-packages (from sentence-transformers) (4.50.3)\n",
      "Requirement already satisfied: tqdm in c:\\users\\admin\\appdata\\local\\programs\\python\\python312\\lib\\site-packages (from sentence-transformers) (4.67.1)\n",
      "Requirement already satisfied: torch>=1.11.0 in c:\\users\\admin\\appdata\\local\\programs\\python\\python312\\lib\\site-packages (from sentence-transformers) (2.6.0)\n",
      "Requirement already satisfied: scikit-learn in c:\\users\\admin\\appdata\\local\\programs\\python\\python312\\lib\\site-packages (from sentence-transformers) (1.6.1)\n",
      "Requirement already satisfied: scipy in c:\\users\\admin\\appdata\\local\\programs\\python\\python312\\lib\\site-packages (from sentence-transformers) (1.13.1)\n",
      "Requirement already satisfied: huggingface-hub>=0.20.0 in c:\\users\\admin\\appdata\\local\\programs\\python\\python312\\lib\\site-packages (from sentence-transformers) (0.29.3)\n",
      "Requirement already satisfied: Pillow in c:\\users\\admin\\appdata\\local\\programs\\python\\python312\\lib\\site-packages (from sentence-transformers) (11.0.0)\n",
      "Requirement already satisfied: typing_extensions>=4.5.0 in c:\\users\\admin\\appdata\\local\\programs\\python\\python312\\lib\\site-packages (from sentence-transformers) (4.12.2)\n",
      "Requirement already satisfied: filelock in c:\\users\\admin\\appdata\\local\\programs\\python\\python312\\lib\\site-packages (from huggingface-hub>=0.20.0->sentence-transformers) (3.18.0)\n",
      "Requirement already satisfied: fsspec>=2023.5.0 in c:\\users\\admin\\appdata\\local\\programs\\python\\python312\\lib\\site-packages (from huggingface-hub>=0.20.0->sentence-transformers) (2025.3.0)\n",
      "Requirement already satisfied: packaging>=20.9 in c:\\users\\admin\\appdata\\local\\programs\\python\\python312\\lib\\site-packages (from huggingface-hub>=0.20.0->sentence-transformers) (24.2)\n",
      "Requirement already satisfied: pyyaml>=5.1 in c:\\users\\admin\\appdata\\local\\programs\\python\\python312\\lib\\site-packages (from huggingface-hub>=0.20.0->sentence-transformers) (6.0.2)\n",
      "Requirement already satisfied: requests in c:\\users\\admin\\appdata\\local\\programs\\python\\python312\\lib\\site-packages (from huggingface-hub>=0.20.0->sentence-transformers) (2.32.3)\n",
      "Requirement already satisfied: networkx in c:\\users\\admin\\appdata\\local\\programs\\python\\python312\\lib\\site-packages (from torch>=1.11.0->sentence-transformers) (3.4.2)\n",
      "Requirement already satisfied: jinja2 in c:\\users\\admin\\appdata\\local\\programs\\python\\python312\\lib\\site-packages (from torch>=1.11.0->sentence-transformers) (3.1.5)\n",
      "Requirement already satisfied: setuptools in c:\\users\\admin\\appdata\\local\\programs\\python\\python312\\lib\\site-packages (from torch>=1.11.0->sentence-transformers) (76.0.0)\n",
      "Requirement already satisfied: sympy==1.13.1 in c:\\users\\admin\\appdata\\local\\programs\\python\\python312\\lib\\site-packages (from torch>=1.11.0->sentence-transformers) (1.13.1)\n",
      "Requirement already satisfied: mpmath<1.4,>=1.1.0 in c:\\users\\admin\\appdata\\local\\programs\\python\\python312\\lib\\site-packages (from sympy==1.13.1->torch>=1.11.0->sentence-transformers) (1.3.0)\n",
      "Requirement already satisfied: colorama in c:\\users\\admin\\appdata\\local\\programs\\python\\python312\\lib\\site-packages (from tqdm->sentence-transformers) (0.4.6)\n",
      "Requirement already satisfied: regex!=2019.12.17 in c:\\users\\admin\\appdata\\local\\programs\\python\\python312\\lib\\site-packages (from transformers<5.0.0,>=4.41.0->sentence-transformers) (2024.11.6)\n",
      "Requirement already satisfied: tokenizers<0.22,>=0.21 in c:\\users\\admin\\appdata\\local\\programs\\python\\python312\\lib\\site-packages (from transformers<5.0.0,>=4.41.0->sentence-transformers) (0.21.1)\n",
      "Requirement already satisfied: safetensors>=0.4.3 in c:\\users\\admin\\appdata\\local\\programs\\python\\python312\\lib\\site-packages (from transformers<5.0.0,>=4.41.0->sentence-transformers) (0.5.3)\n",
      "Requirement already satisfied: click in c:\\users\\admin\\appdata\\local\\programs\\python\\python312\\lib\\site-packages (from nltk->rouge-score) (8.1.8)\n",
      "Requirement already satisfied: joblib in c:\\users\\admin\\appdata\\local\\programs\\python\\python312\\lib\\site-packages (from nltk->rouge-score) (1.4.2)\n",
      "Requirement already satisfied: threadpoolctl>=3.1.0 in c:\\users\\admin\\appdata\\local\\programs\\python\\python312\\lib\\site-packages (from scikit-learn->sentence-transformers) (3.6.0)\n",
      "Requirement already satisfied: MarkupSafe>=2.0 in c:\\users\\admin\\appdata\\local\\programs\\python\\python312\\lib\\site-packages (from jinja2->torch>=1.11.0->sentence-transformers) (3.0.2)\n",
      "Requirement already satisfied: charset-normalizer<4,>=2 in c:\\users\\admin\\appdata\\local\\programs\\python\\python312\\lib\\site-packages (from requests->huggingface-hub>=0.20.0->sentence-transformers) (3.4.1)\n",
      "Requirement already satisfied: idna<4,>=2.5 in c:\\users\\admin\\appdata\\local\\programs\\python\\python312\\lib\\site-packages (from requests->huggingface-hub>=0.20.0->sentence-transformers) (3.10)\n",
      "Requirement already satisfied: urllib3<3,>=1.21.1 in c:\\users\\admin\\appdata\\local\\programs\\python\\python312\\lib\\site-packages (from requests->huggingface-hub>=0.20.0->sentence-transformers) (2.3.0)\n",
      "Requirement already satisfied: certifi>=2017.4.17 in c:\\users\\admin\\appdata\\local\\programs\\python\\python312\\lib\\site-packages (from requests->huggingface-hub>=0.20.0->sentence-transformers) (2025.1.31)\n",
      "Building wheels for collected packages: rouge-score\n",
      "  Building wheel for rouge-score (setup.py): started\n",
      "  Building wheel for rouge-score (setup.py): finished with status 'done'\n",
      "  Created wheel for rouge-score: filename=rouge_score-0.1.2-py3-none-any.whl size=25026 sha256=a4f91908207221410b359a1ece262717134e50c5c2c3e7627a151952629cb836\n",
      "  Stored in directory: c:\\users\\admin\\appdata\\local\\pip\\cache\\wheels\\85\\9d\\af\\01feefbe7d55ef5468796f0c68225b6788e85d9d0a281e7a70\n",
      "Successfully built rouge-score\n",
      "Installing collected packages: rouge-score\n",
      "Successfully installed rouge-score-0.1.2\n"
     ]
    }
   ],
   "source": [
    "! pip install rouge-score sentence-transformers"
   ]
  },
  {
   "cell_type": "code",
   "execution_count": 34,
   "id": "6ee47031",
   "metadata": {},
   "outputs": [
    {
     "name": "stdout",
     "output_type": "stream",
     "text": [
      "\u001b[1;3;38;5;200mSelecting query engine 1: The question 'What is hypertrophy?' is asking for a specific definition, which is a retrieval task..\n",
      "\u001b[0m\u001b[1;3;38;5;200mSelecting query engine 1: The question 'What is metastasis?' is a specific query that requires a precise answer, which aligns with the second choice for retrieving specific context from the given context based on the given question..\n",
      "\u001b[0m\u001b[1;3;38;5;200mSelecting query engine 1: The question 'What is cancer?' is a specific query that requires a direct answer, which is a characteristic of retrieving specific context from the given context based on the given question..\n",
      "\u001b[0m\u001b[1;3;38;5;200mSelecting query engine 1: The question 'What is ATP?' is asking for a specific piece of information, which is a definition. This requires retrieving specific context from the given context based on the question..\n",
      "\u001b[0m\u001b[1;3;38;5;200mSelecting query engine 1: The question 'What is liver cancer?' is asking for specific information about liver cancer, which is a retrieval task..\n",
      "\u001b[0m\n",
      "✅ Average Cosine Similarity: 0.8499\n",
      "✅ Average ROUGE Score: 0.3593\n",
      "⚠️ Fallback Rate: 0.00% (0/5)\n"
     ]
    }
   ],
   "source": [
    "import numpy as np\n",
    "from rouge_score import rouge_scorer\n",
    "from sentence_transformers import SentenceTransformer, util\n",
    "\n",
    "# Load SentenceTransformer model for embeddings\n",
    "model = SentenceTransformer(\"all-MiniLM-L6-v2\")\n",
    "\n",
    "# Sample test data: User queries and expected responses\n",
    "test_data = [\n",
    "    {\"query\": \"What is hypertrophy?\", \"expected_response\": \"Hypertrophy is the increase in the size of cells, leading to the growth of an organ or tissue.\"},\n",
    "    {\"query\": \"What is metastasis?\", \"expected_response\": \"Metastasis is the spread of cancer cells to distant parts of the body.\"},\n",
    "    {\"query\": \"What is cancer?\", \"expected_response\": \"Cancer is a disease caused by uncontrolled cell division.\"},\n",
    "    {\"query\": \"What is ATP?\", \"expected_response\": \"ATP (Adenosine Triphosphate) is the primary energy carrier in cells.\"},\n",
    "    {\"query\": \"What is liver cancer?\", \"expected_response\": \"Liver cancer is a type of cancer that begins in the liver cells.\"}\n",
    "]\n",
    "\n",
    "# Initialize ROUGE scorer\n",
    "rouge_scorer_obj = rouge_scorer.RougeScorer([\"rouge1\", \"rougeL\"], use_stemmer=True)\n",
    "\n",
    "cosine_similarities = []\n",
    "rouge_scores = []\n",
    "fallback_count = 0\n",
    "\n",
    "# Query chatbot and evaluate responses\n",
    "for item in test_data:\n",
    "    chatbot_response = query_engine.query(item[\"query\"])\n",
    "    \n",
    "    # Compute Cosine Similarity\n",
    "    chatbot_embedding = model.encode(str(chatbot_response), convert_to_tensor=True)\n",
    "    expected_embedding = model.encode(item[\"expected_response\"], convert_to_tensor=True)\n",
    "    cosine_similarity = util.pytorch_cos_sim(chatbot_embedding, expected_embedding).item()\n",
    "    cosine_similarities.append(cosine_similarity)\n",
    "\n",
    "    # Compute ROUGE Score\n",
    "    rouge = rouge_scorer_obj.score(item[\"expected_response\"], str(chatbot_response))\n",
    "    rouge_scores.append(rouge[\"rouge1\"].fmeasure)\n",
    "\n",
    "    # Check if chatbot failed to answer (fallback)\n",
    "    if \"I don't know\" in str(chatbot_response) or \"I'm sorry\" in str(chatbot_response):\n",
    "        fallback_count += 1\n",
    "\n",
    "# Print Evaluation Results\n",
    "print(f\"\\n✅ Average Cosine Similarity: {np.mean(cosine_similarities):.4f}\")\n",
    "print(f\"✅ Average ROUGE Score: {np.mean(rouge_scores):.4f}\")\n",
    "print(f\"⚠️ Fallback Rate: {fallback_count / len(test_data) * 100:.2f}% ({fallback_count}/{len(test_data)})\")"
   ]
  }
 ],
 "metadata": {
  "kernelspec": {
   "display_name": "Python 3",
   "language": "python",
   "name": "python3"
  },
  "language_info": {
   "codemirror_mode": {
    "name": "ipython",
    "version": 3
   },
   "file_extension": ".py",
   "mimetype": "text/x-python",
   "name": "python",
   "nbconvert_exporter": "python",
   "pygments_lexer": "ipython3",
   "version": "3.12.8"
  }
 },
 "nbformat": 4,
 "nbformat_minor": 5
}
